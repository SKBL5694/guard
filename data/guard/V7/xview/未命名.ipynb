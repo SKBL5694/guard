{
 "cells": [
  {
   "cell_type": "code",
   "execution_count": 24,
   "metadata": {},
   "outputs": [],
   "source": [
    "import numpy as np\n",
    "import pickle"
   ]
  },
  {
   "cell_type": "code",
   "execution_count": 22,
   "metadata": {},
   "outputs": [],
   "source": [
    "data = np.load('../../V7/xview/train_data.npy')"
   ]
  },
  {
   "cell_type": "code",
   "execution_count": null,
   "metadata": {},
   "outputs": [],
   "source": [
    "label = np.load('../../V7/xview/val_label.pkl')"
   ]
  },
  {
   "cell_type": "code",
   "execution_count": 25,
   "metadata": {},
   "outputs": [],
   "source": [
    "with open('../../V7/xview/val_label.pkl', 'rb') as fp:\n",
    "    temp = pickle.load(fp)"
   ]
  },
  {
   "cell_type": "code",
   "execution_count": 27,
   "metadata": {},
   "outputs": [],
   "source": [
    "with open('../../V7/xview/test_filename.txt', 'a') as fp:\n",
    "    for i in temp[0]:\n",
    "        fp.write(i)"
   ]
  },
  {
   "cell_type": "code",
   "execution_count": 23,
   "metadata": {},
   "outputs": [
    {
     "data": {
      "text/plain": [
       "(3, 60, 18, 1)"
      ]
     },
     "execution_count": 23,
     "metadata": {},
     "output_type": "execute_result"
    }
   ],
   "source": [
    "data[0].shape"
   ]
  },
  {
   "cell_type": "code",
   "execution_count": 21,
   "metadata": {},
   "outputs": [
    {
     "data": {
      "text/plain": [
       "array([[[-0.055],\n",
       "        [-0.078],\n",
       "        [-0.09 ],\n",
       "        [-0.083],\n",
       "        [-0.068],\n",
       "        [-0.066],\n",
       "        [-0.035],\n",
       "        [-0.003],\n",
       "        [-0.089],\n",
       "        [-0.078],\n",
       "        [-0.078],\n",
       "        [-0.064],\n",
       "        [-0.018],\n",
       "        [-0.06 ],\n",
       "        [-0.063],\n",
       "        [ 0.   ],\n",
       "        [-0.078],\n",
       "        [ 0.   ]],\n",
       "\n",
       "       [[-0.23 ],\n",
       "        [-0.183],\n",
       "        [-0.175],\n",
       "        [-0.077],\n",
       "        [ 0.013],\n",
       "        [-0.186],\n",
       "        [-0.186],\n",
       "        [-0.202],\n",
       "        [-0.028],\n",
       "        [ 0.094],\n",
       "        [ 0.206],\n",
       "        [-0.047],\n",
       "        [ 0.01 ],\n",
       "        [ 0.1  ],\n",
       "        [-0.246],\n",
       "        [ 0.   ],\n",
       "        [-0.233],\n",
       "        [ 0.   ]],\n",
       "\n",
       "       [[ 0.953],\n",
       "        [ 0.908],\n",
       "        [ 0.841],\n",
       "        [ 0.81 ],\n",
       "        [ 0.889],\n",
       "        [ 0.835],\n",
       "        [ 0.875],\n",
       "        [ 0.864],\n",
       "        [ 0.79 ],\n",
       "        [ 0.774],\n",
       "        [ 0.818],\n",
       "        [ 0.84 ],\n",
       "        [ 0.914],\n",
       "        [ 0.865],\n",
       "        [ 0.918],\n",
       "        [ 0.   ],\n",
       "        [ 0.895],\n",
       "        [ 0.   ]]], dtype=float32)"
      ]
     },
     "execution_count": 21,
     "metadata": {},
     "output_type": "execute_result"
    }
   ],
   "source": []
  },
  {
   "cell_type": "code",
   "execution_count": null,
   "metadata": {},
   "outputs": [],
   "source": []
  }
 ],
 "metadata": {
  "kernelspec": {
   "display_name": "Python 3",
   "language": "python",
   "name": "python3"
  },
  "language_info": {
   "codemirror_mode": {
    "name": "ipython",
    "version": 3
   },
   "file_extension": ".py",
   "mimetype": "text/x-python",
   "name": "python",
   "nbconvert_exporter": "python",
   "pygments_lexer": "ipython3",
   "version": "3.8.5"
  }
 },
 "nbformat": 4,
 "nbformat_minor": 4
}
